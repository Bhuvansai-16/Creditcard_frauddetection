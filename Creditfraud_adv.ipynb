{
  "nbformat": 4,
  "nbformat_minor": 0,
  "metadata": {
    "colab": {
      "provenance": [],
      "authorship_tag": "ABX9TyOYtlF7GFkQ6PflzL1UWgKS",
      "include_colab_link": true
    },
    "kernelspec": {
      "name": "python3",
      "display_name": "Python 3"
    },
    "language_info": {
      "name": "python"
    }
  },
  "cells": [
    {
      "cell_type": "markdown",
      "metadata": {
        "id": "view-in-github",
        "colab_type": "text"
      },
      "source": [
        "<a href=\"https://colab.research.google.com/github/Bhuvansai-16/Creditcard_frauddetection/blob/main/Creditfraud_adv.ipynb\" target=\"_parent\"><img src=\"https://colab.research.google.com/assets/colab-badge.svg\" alt=\"Open In Colab\"/></a>"
      ]
    },
    {
      "cell_type": "code",
      "execution_count": 15,
      "metadata": {
        "colab": {
          "base_uri": "https://localhost:8080/",
          "height": 1000
        },
        "id": "VtbfthVsj3Dx",
        "outputId": "a6641b5d-2785-4fd7-aa7a-e0bb3d3ff630"
      },
      "outputs": [
        {
          "output_type": "stream",
          "name": "stderr",
          "text": [
            "/usr/local/lib/python3.11/dist-packages/keras/src/layers/core/dense.py:87: UserWarning: Do not pass an `input_shape`/`input_dim` argument to a layer. When using Sequential models, prefer using an `Input(shape)` object as the first layer in the model instead.\n",
            "  super().__init__(activity_regularizer=activity_regularizer, **kwargs)\n"
          ]
        },
        {
          "output_type": "stream",
          "name": "stdout",
          "text": [
            "Epoch 1/20\n",
            "\u001b[1m178/178\u001b[0m \u001b[32m━━━━━━━━━━━━━━━━━━━━\u001b[0m\u001b[37m\u001b[0m \u001b[1m6s\u001b[0m 14ms/step - AUC: 0.8769 - Precision: 0.8133 - Recall: 0.7864 - loss: 0.4199 - val_AUC: 0.0000e+00 - val_Precision: 1.0000 - val_Recall: 0.9234 - val_loss: 0.1444\n",
            "Epoch 2/20\n",
            "\u001b[1m178/178\u001b[0m \u001b[32m━━━━━━━━━━━━━━━━━━━━\u001b[0m\u001b[37m\u001b[0m \u001b[1m2s\u001b[0m 11ms/step - AUC: 0.9928 - Precision: 0.9720 - Recall: 0.9228 - loss: 0.0993 - val_AUC: 0.0000e+00 - val_Precision: 1.0000 - val_Recall: 0.9485 - val_loss: 0.0990\n",
            "Epoch 3/20\n",
            "\u001b[1m178/178\u001b[0m \u001b[32m━━━━━━━━━━━━━━━━━━━━\u001b[0m\u001b[37m\u001b[0m \u001b[1m2s\u001b[0m 11ms/step - AUC: 0.9966 - Precision: 0.9750 - Recall: 0.9476 - loss: 0.0725 - val_AUC: 0.0000e+00 - val_Precision: 1.0000 - val_Recall: 0.9684 - val_loss: 0.0698\n",
            "Epoch 4/20\n",
            "\u001b[1m178/178\u001b[0m \u001b[32m━━━━━━━━━━━━━━━━━━━━\u001b[0m\u001b[37m\u001b[0m \u001b[1m2s\u001b[0m 11ms/step - AUC: 0.9981 - Precision: 0.9760 - Recall: 0.9651 - loss: 0.0561 - val_AUC: 0.0000e+00 - val_Precision: 1.0000 - val_Recall: 0.9859 - val_loss: 0.0453\n",
            "Epoch 5/20\n",
            "\u001b[1m178/178\u001b[0m \u001b[32m━━━━━━━━━━━━━━━━━━━━\u001b[0m\u001b[37m\u001b[0m \u001b[1m2s\u001b[0m 10ms/step - AUC: 0.9989 - Precision: 0.9798 - Recall: 0.9784 - loss: 0.0426 - val_AUC: 0.0000e+00 - val_Precision: 1.0000 - val_Recall: 0.9932 - val_loss: 0.0306\n",
            "Epoch 6/20\n",
            "\u001b[1m178/178\u001b[0m \u001b[32m━━━━━━━━━━━━━━━━━━━━\u001b[0m\u001b[37m\u001b[0m \u001b[1m4s\u001b[0m 16ms/step - AUC: 0.9992 - Precision: 0.9823 - Recall: 0.9868 - loss: 0.0336 - val_AUC: 0.0000e+00 - val_Precision: 1.0000 - val_Recall: 0.9964 - val_loss: 0.0219\n",
            "Epoch 7/20\n",
            "\u001b[1m178/178\u001b[0m \u001b[32m━━━━━━━━━━━━━━━━━━━━\u001b[0m\u001b[37m\u001b[0m \u001b[1m4s\u001b[0m 11ms/step - AUC: 0.9994 - Precision: 0.9850 - Recall: 0.9918 - loss: 0.0272 - val_AUC: 0.0000e+00 - val_Precision: 1.0000 - val_Recall: 0.9983 - val_loss: 0.0169\n",
            "Epoch 8/20\n",
            "\u001b[1m178/178\u001b[0m \u001b[32m━━━━━━━━━━━━━━━━━━━━\u001b[0m\u001b[37m\u001b[0m \u001b[1m3s\u001b[0m 11ms/step - AUC: 0.9995 - Precision: 0.9866 - Recall: 0.9944 - loss: 0.0232 - val_AUC: 0.0000e+00 - val_Precision: 1.0000 - val_Recall: 0.9993 - val_loss: 0.0121\n",
            "Epoch 9/20\n",
            "\u001b[1m178/178\u001b[0m \u001b[32m━━━━━━━━━━━━━━━━━━━━\u001b[0m\u001b[37m\u001b[0m \u001b[1m2s\u001b[0m 11ms/step - AUC: 0.9996 - Precision: 0.9885 - Recall: 0.9966 - loss: 0.0201 - val_AUC: 0.0000e+00 - val_Precision: 1.0000 - val_Recall: 1.0000 - val_loss: 0.0098\n",
            "Epoch 10/20\n",
            "\u001b[1m178/178\u001b[0m \u001b[32m━━━━━━━━━━━━━━━━━━━━\u001b[0m\u001b[37m\u001b[0m \u001b[1m3s\u001b[0m 18ms/step - AUC: 0.9996 - Precision: 0.9899 - Recall: 0.9973 - loss: 0.0173 - val_AUC: 0.0000e+00 - val_Precision: 1.0000 - val_Recall: 1.0000 - val_loss: 0.0081\n",
            "Epoch 11/20\n",
            "\u001b[1m178/178\u001b[0m \u001b[32m━━━━━━━━━━━━━━━━━━━━\u001b[0m\u001b[37m\u001b[0m \u001b[1m2s\u001b[0m 9ms/step - AUC: 0.9997 - Precision: 0.9910 - Recall: 0.9982 - loss: 0.0151 - val_AUC: 0.0000e+00 - val_Precision: 1.0000 - val_Recall: 1.0000 - val_loss: 0.0072\n",
            "Epoch 12/20\n",
            "\u001b[1m178/178\u001b[0m \u001b[32m━━━━━━━━━━━━━━━━━━━━\u001b[0m\u001b[37m\u001b[0m \u001b[1m3s\u001b[0m 9ms/step - AUC: 0.9997 - Precision: 0.9919 - Recall: 0.9986 - loss: 0.0138 - val_AUC: 0.0000e+00 - val_Precision: 1.0000 - val_Recall: 1.0000 - val_loss: 0.0058\n",
            "Epoch 13/20\n",
            "\u001b[1m178/178\u001b[0m \u001b[32m━━━━━━━━━━━━━━━━━━━━\u001b[0m\u001b[37m\u001b[0m \u001b[1m3s\u001b[0m 9ms/step - AUC: 0.9997 - Precision: 0.9928 - Recall: 0.9990 - loss: 0.0121 - val_AUC: 0.0000e+00 - val_Precision: 1.0000 - val_Recall: 1.0000 - val_loss: 0.0056\n",
            "Epoch 14/20\n",
            "\u001b[1m178/178\u001b[0m \u001b[32m━━━━━━━━━━━━━━━━━━━━\u001b[0m\u001b[37m\u001b[0m \u001b[1m2s\u001b[0m 11ms/step - AUC: 0.9997 - Precision: 0.9934 - Recall: 0.9991 - loss: 0.0116 - val_AUC: 0.0000e+00 - val_Precision: 1.0000 - val_Recall: 1.0000 - val_loss: 0.0040\n",
            "Epoch 15/20\n",
            "\u001b[1m178/178\u001b[0m \u001b[32m━━━━━━━━━━━━━━━━━━━━\u001b[0m\u001b[37m\u001b[0m \u001b[1m4s\u001b[0m 17ms/step - AUC: 0.9998 - Precision: 0.9938 - Recall: 0.9994 - loss: 0.0101 - val_AUC: 0.0000e+00 - val_Precision: 1.0000 - val_Recall: 1.0000 - val_loss: 0.0039\n",
            "Epoch 16/20\n",
            "\u001b[1m178/178\u001b[0m \u001b[32m━━━━━━━━━━━━━━━━━━━━\u001b[0m\u001b[37m\u001b[0m \u001b[1m2s\u001b[0m 10ms/step - AUC: 0.9997 - Precision: 0.9943 - Recall: 0.9993 - loss: 0.0095 - val_AUC: 0.0000e+00 - val_Precision: 1.0000 - val_Recall: 1.0000 - val_loss: 0.0040\n",
            "Epoch 17/20\n",
            "\u001b[1m178/178\u001b[0m \u001b[32m━━━━━━━━━━━━━━━━━━━━\u001b[0m\u001b[37m\u001b[0m \u001b[1m2s\u001b[0m 13ms/step - AUC: 0.9998 - Precision: 0.9949 - Recall: 0.9993 - loss: 0.0087 - val_AUC: 0.0000e+00 - val_Precision: 1.0000 - val_Recall: 1.0000 - val_loss: 0.0033\n",
            "Epoch 18/20\n",
            "\u001b[1m178/178\u001b[0m \u001b[32m━━━━━━━━━━━━━━━━━━━━\u001b[0m\u001b[37m\u001b[0m \u001b[1m2s\u001b[0m 11ms/step - AUC: 0.9998 - Precision: 0.9955 - Recall: 0.9995 - loss: 0.0074 - val_AUC: 0.0000e+00 - val_Precision: 1.0000 - val_Recall: 1.0000 - val_loss: 0.0024\n",
            "Epoch 19/20\n",
            "\u001b[1m178/178\u001b[0m \u001b[32m━━━━━━━━━━━━━━━━━━━━\u001b[0m\u001b[37m\u001b[0m \u001b[1m2s\u001b[0m 11ms/step - AUC: 0.9998 - Precision: 0.9956 - Recall: 0.9996 - loss: 0.0073 - val_AUC: 0.0000e+00 - val_Precision: 1.0000 - val_Recall: 1.0000 - val_loss: 0.0025\n",
            "Epoch 20/20\n",
            "\u001b[1m178/178\u001b[0m \u001b[32m━━━━━━━━━━━━━━━━━━━━\u001b[0m\u001b[37m\u001b[0m \u001b[1m3s\u001b[0m 14ms/step - AUC: 0.9998 - Precision: 0.9958 - Recall: 0.9997 - loss: 0.0072 - val_AUC: 0.0000e+00 - val_Precision: 1.0000 - val_Recall: 1.0000 - val_loss: 0.0022\n",
            "\u001b[1m1781/1781\u001b[0m \u001b[32m━━━━━━━━━━━━━━━━━━━━\u001b[0m\u001b[37m\u001b[0m \u001b[1m3s\u001b[0m 2ms/step\n",
            "\n",
            " Best Threshold = 0.99 | Best F1 Score = 0.8247\n",
            "\n",
            "📊 Confusion Matrix:\n",
            " [[56848    16]\n",
            " [   18    80]]\n",
            "\n",
            "📄 Classification Report:\n",
            "               precision    recall  f1-score   support\n",
            "\n",
            "           0     0.9997    0.9997    0.9997     56864\n",
            "           1     0.8333    0.8163    0.8247        98\n",
            "\n",
            "    accuracy                         0.9994     56962\n",
            "   macro avg     0.9165    0.9080    0.9122     56962\n",
            "weighted avg     0.9994    0.9994    0.9994     56962\n",
            "\n",
            "\n",
            " Accuracy score: 0.999403110845827\n"
          ]
        },
        {
          "output_type": "display_data",
          "data": {
            "text/plain": [
              "<Figure size 640x480 with 1 Axes>"
            ],
            "image/png": "[encoded data removed]"
          },
          "metadata": {}
        }
      ],
      "source": [
        "import pandas as pd\n",
        "import numpy as np\n",
        "import matplotlib.pyplot as plt\n",
        "from sklearn.model_selection import train_test_split\n",
        "from sklearn.preprocessing import StandardScaler\n",
        "from sklearn.metrics import classification_report, confusion_matrix, f1_score, precision_recall_curve,accuracy_score\n",
        "from imblearn.over_sampling import SMOTE\n",
        "import tensorflow as tf\n",
        "from tensorflow.keras.models import Sequential\n",
        "from tensorflow.keras.layers import Dense, Dropout\n",
        "\n",
        "#Load Data\n",
        "df = pd.read_csv('creditcard.csv')\n",
        "X = df.drop('Class', axis=1)\n",
        "y = df['Class']\n",
        "\n",
        "#Normalize\n",
        "scaler = StandardScaler()\n",
        "X[['Time', 'Amount']] = scaler.fit_transform(X[['Time', 'Amount']])\n",
        "\n",
        "#Training\n",
        "X_train, X_test, y_train, y_test = train_test_split(X, y, test_size=0.2,random_state=42)\n",
        "smote = SMOTE(random_state=42)\n",
        "X_smote, y_smote = smote.fit_resample(X_train, y_train)\n",
        "\n",
        "#Model\n",
        "model = Sequential([\n",
        "    Dense(64, input_shape=(X_smote.shape[1],), activation='relu'),\n",
        "    Dropout(0.3),\n",
        "    Dense(32, activation='relu'),\n",
        "    Dropout(0.2),\n",
        "    Dense(1, activation='sigmoid')\n",
        "])\n",
        "\n",
        "model.compile(optimizer='adam',\n",
        "              loss='binary_crossentropy',\n",
        "              metrics=['Precision', 'Recall', 'AUC'])\n",
        "\n",
        "#Training the Model\n",
        "history = model.fit(X_smote, y_smote,\n",
        "                    epochs=20,\n",
        "                    batch_size=2048,\n",
        "                    validation_split=0.2)\n",
        "\n",
        "#Predict Probabilities\n",
        "y_pred_prob = model.predict(X_test)\n",
        "\n",
        "#Find Best Threshold using F1-score\n",
        "best_f1 = 0\n",
        "best_thresh = 0.5\n",
        "for thresh in np.arange(0.01, 1.0, 0.01):\n",
        "    y_pred = (y_pred_prob > thresh).astype(\"int32\")\n",
        "    score = f1_score(y_test, y_pred)\n",
        "    if score > best_f1:\n",
        "        best_f1 = score\n",
        "        best_thresh = thresh\n",
        "\n",
        "print(f\"\\n Best Threshold = {best_thresh:.2f} | Best F1 Score = {best_f1:.4f}\")\n",
        "\n",
        "#prediction\n",
        "y_pred_final = (y_pred_prob > best_thresh).astype(\"int32\")\n",
        "\n",
        "#Evaluation\n",
        "print(\"\\n📊 Confusion Matrix:\\n\", confusion_matrix(y_test, y_pred_final))\n",
        "print(\"\\n📄 Classification Report:\\n\", classification_report(y_test, y_pred_final, digits=4))\n",
        "print(\"\\n Accuracy score:\",accuracy_score(y_test, y_pred_final))\n",
        "# Step 11: Plot Precision-Recall Curve\n",
        "precision, recall, thresholds = precision_recall_curve(y_test, y_pred_prob)\n",
        "plt.plot(thresholds, precision[:-1], label='Precision')\n",
        "plt.plot(thresholds, recall[:-1], label='Recall')\n",
        "plt.xlabel(\"Threshold\")\n",
        "plt.ylabel(\"Score\")\n",
        "plt.title(\"Precision vs Recall vs Threshold\")\n",
        "plt.legend()\n",
        "plt.grid(True)\n",
        "plt.show()\n"
      ]
    },
    {
      "cell_type": "code",
      "source": [
        "# Tetsing 100 samples\n",
        "\n",
        "new_test_samples = df.sample(n=100, random_state=123)\n",
        "\n",
        "# Separate features and labels\n",
        "X_new = new_test_samples.drop('Class', axis=1)\n",
        "y_new = new_test_samples['Class']\n",
        "\n",
        "# Scale Time and Amount using the already fitted scaler\n",
        "X_new[['Time', 'Amount']] = scaler.transform(X_new[['Time', 'Amount']])\n",
        "\n",
        "# Predict probabilities\n",
        "y_new_pred_prob = model.predict(X_new)\n",
        "\n",
        "# Use best threshold from tuning\n",
        "best_threshold = 0.94\n",
        "y_new_pred = (y_new_pred_prob > best_threshold).astype(\"int32\")\n",
        "\n",
        "#Evaluate\n",
        "from sklearn.metrics import classification_report, confusion_matrix\n",
        "\n",
        "print(\"Confusion Matrix:\\n\", confusion_matrix(y_new, y_new_pred))\n",
        "print(\"\\nClassification Report:\\n\", classification_report(y_new, y_new_pred, digits=4))\n"
      ],
      "metadata": {
        "colab": {
          "base_uri": "https://localhost:8080/"
        },
        "id": "juwv4EaUkUaw",
        "outputId": "73e56c49-d3ca-449a-cba8-ae0ddef1aeb5"
      },
      "execution_count": 9,
      "outputs": [
        {
          "output_type": "stream",
          "name": "stdout",
          "text": [
            "\u001b[1m4/4\u001b[0m \u001b[32m━━━━━━━━━━━━━━━━━━━━\u001b[0m\u001b[37m\u001b[0m \u001b[1m0s\u001b[0m 9ms/step \n",
            "Confusion Matrix:\n",
            " [[99  0]\n",
            " [ 0  1]]\n",
            "\n",
            "Classification Report:\n",
            "               precision    recall  f1-score   support\n",
            "\n",
            "           0     1.0000    1.0000    1.0000        99\n",
            "           1     1.0000    1.0000    1.0000         1\n",
            "\n",
            "    accuracy                         1.0000       100\n",
            "   macro avg     1.0000    1.0000    1.0000       100\n",
            "weighted avg     1.0000    1.0000    1.0000       100\n",
            "\n"
          ]
        }
      ]
    },
    {
      "cell_type": "code",
      "source": [
        "# Save TensorFlow Keras model\n",
        "model.save('fraud_detection_model.h5')\n",
        "\n",
        "# Save scaler using pickle\n",
        "import pickle\n",
        "with open('scaler.pkl', 'wb') as f:\n",
        "    pickle.dump(scaler, f)\n"
      ],
      "metadata": {
        "colab": {
          "base_uri": "https://localhost:8080/"
        },
        "id": "IXwB8VtLmtIm",
        "outputId": "3e5538ca-f0af-4b93-dce8-79f6ccc73170"
      },
      "execution_count": 16,
      "outputs": [
        {
          "output_type": "stream",
          "name": "stderr",
          "text": [
            "WARNING:absl:You are saving your model as an HDF5 file via `model.save()` or `keras.saving.save_model(model)`. This file format is considered legacy. We recommend using instead the native Keras format, e.g. `model.save('my_model.keras')` or `keras.saving.save_model(model, 'my_model.keras')`. \n"
          ]
        }
      ]
    },
    {
      "cell_type": "code",
      "source": [
        "import pandas as pd\n",
        "import tensorflow as tf\n",
        "import pickle\n",
        "\n",
        "# Load model and scaler\n",
        "model = tf.keras.models.load_model('fraud_detection_model.h5')\n",
        "scaler = pickle.load(open('scaler.pkl', 'rb'))\n",
        "\n",
        "# Take a subset of your original test data\n",
        "X_test_sample = X_smote.sample(n=28, random_state=42)  # real data, not random\n",
        "y_test_sample = y_smote.loc[X_test_sample.index]\n",
        "\n",
        "# Scale Time and Amount columns\n",
        "X_test_sample[['Time', 'Amount']] = scaler.transform(X_test_sample[['Time', 'Amount']])\n",
        "\n",
        "# Apply threshold (for classification)\n",
        "threshold = 0.94\n",
        "pred_classes = (y_pred > threshold).astype(int)\n",
        "\n",
        "print(\"Predicted classes:\\n\", pred_classes)\n",
        "print(\"Actual classes:\\n\", y_test_sample.values)\n"
      ],
      "metadata": {
        "colab": {
          "base_uri": "https://localhost:8080/"
        },
        "id": "8fyiWXp8kUi8",
        "outputId": "9841a4fb-d4ec-441a-bd3f-f8a79d3e77ec"
      },
      "execution_count": 17,
      "outputs": [
        {
          "output_type": "stream",
          "name": "stderr",
          "text": [
            "WARNING:absl:Compiled the loaded model, but the compiled metrics have yet to be built. `model.compile_metrics` will be empty until you train or evaluate the model.\n"
          ]
        },
        {
          "output_type": "stream",
          "name": "stdout",
          "text": [
            "Predicted classes:\n",
            " [[1]\n",
            " [0]\n",
            " [0]\n",
            " ...\n",
            " [0]\n",
            " [0]\n",
            " [0]]\n",
            "Actual classes:\n",
            " [0 1 1 1 1 1 1 1 1 1 0 0 0 1 1 1 1 1 1 0 1 1 0 0 1 1 1 0]\n"
          ]
        }
      ]
    },
    {
      "cell_type": "code",
      "source": [
        "#Testing\n",
        "model = tf.keras.models.load_model('fraud_detection_model.h5')\n",
        "with open('scaler.pkl', 'rb') as f:\n",
        "    scaler = pickle.load(f)\n",
        "#10000 samples\n",
        "X_test_sample = X_smote.sample(n=10000, random_state=42)\n",
        "y_test_sample = y_smote.loc[X_test_sample.index]\n",
        "\n",
        "X_test_sample[['Time', 'Amount']] = scaler.transform(X_test_sample[['Time', 'Amount']])\n",
        "\n",
        "# Predict probabilities\n",
        "y_probs = model.predict(X_test_sample)\n",
        "\n",
        "# Apply the best threshold\n",
        "BEST_THRESHOLD = 0.94\n",
        "y_preds = (y_probs > BEST_THRESHOLD).astype(int)\n",
        "\n",
        "# Print evaluation metrics\n",
        "print(\" Confusion Matrix:\\n\", confusion_matrix(y_test_sample, y_preds))\n",
        "print(\"\\nClassification Report:\\n\", classification_report(y_test_sample, y_preds, digits=4))\n"
      ],
      "metadata": {
        "colab": {
          "base_uri": "https://localhost:8080/"
        },
        "id": "jcFFMdZfkYsd",
        "outputId": "248fa944-a025-48c1-ce5b-c7358d7ffeca"
      },
      "execution_count": 18,
      "outputs": [
        {
          "output_type": "stream",
          "name": "stderr",
          "text": [
            "WARNING:absl:Compiled the loaded model, but the compiled metrics have yet to be built. `model.compile_metrics` will be empty until you train or evaluate the model.\n"
          ]
        },
        {
          "output_type": "stream",
          "name": "stdout",
          "text": [
            "\u001b[1m313/313\u001b[0m \u001b[32m━━━━━━━━━━━━━━━━━━━━\u001b[0m\u001b[37m\u001b[0m \u001b[1m0s\u001b[0m 1ms/step\n",
            " Confusion Matrix:\n",
            " [[4943    0]\n",
            " [ 676 4381]]\n",
            "\n",
            "Classification Report:\n",
            "               precision    recall  f1-score   support\n",
            "\n",
            "           0     0.8797    1.0000    0.9360      4943\n",
            "           1     1.0000    0.8663    0.9284      5057\n",
            "\n",
            "    accuracy                         0.9324     10000\n",
            "   macro avg     0.9398    0.9332    0.9322     10000\n",
            "weighted avg     0.9405    0.9324    0.9321     10000\n",
            "\n"
          ]
        }
      ]
    },
    {
      "cell_type": "code",
      "source": [],
      "metadata": {
        "id": "dKoTyi5ZnXvB"
      },
      "execution_count": null,
      "outputs": []
    }
  ]
}